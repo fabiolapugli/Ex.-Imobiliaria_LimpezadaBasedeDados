{
 "cells": [
  {
   "cell_type": "raw",
   "metadata": {},
   "source": [
    "Restaurar o banco imobiliária com arquivo imobiliaria.backup; ● Criar endpoint de get, que deve selecionar os dados dentro de um intervalo de area, plotar o gráfico de dispersão em que o eixo x é a área e o eixo y o preco e retornar o json com esses dados; \n",
    "● Criar endpoint de get, que deve selecionar os 15 dados com maior preco em ordem decrescente, plotar o gráfico de linha em que o eixo x é o preco e o eixo y a qte_quartos e retornar o json com esses dados; \n",
    "● Criar endpoint de get, que deve selecionar todos os dados com determinada quantidade de qte_banheiros, plotar o gráfico de barra em que o eixo x é o qte_banheiros e o eixo y a qte_quartos e retornar o json com esses dados; \n",
    "● Criar endpoint de put, que atualize os dados pelo cep; \n",
    "● Criar endpoint de delete, que delete os dados pelo cep;"
   ]
  },
  {
   "cell_type": "code",
   "execution_count": 1,
   "metadata": {},
   "outputs": [],
   "source": [
    "\n",
    "import matplotlib.pyplot as pyplot\n",
    "import pandas as pd\n",
    "import numpy as np\n"
   ]
  },
  {
   "cell_type": "code",
   "execution_count": 3,
   "metadata": {},
   "outputs": [
    {
     "data": {
      "text/html": [
       "<div>\n",
       "<style scoped>\n",
       "    .dataframe tbody tr th:only-of-type {\n",
       "        vertical-align: middle;\n",
       "    }\n",
       "\n",
       "    .dataframe tbody tr th {\n",
       "        vertical-align: top;\n",
       "    }\n",
       "\n",
       "    .dataframe thead th {\n",
       "        text-align: right;\n",
       "    }\n",
       "</style>\n",
       "<table border=\"1\" class=\"dataframe\">\n",
       "  <thead>\n",
       "    <tr style=\"text-align: right;\">\n",
       "      <th></th>\n",
       "      <th>qde_banheiro</th>\n",
       "      <th>qde_quartos</th>\n",
       "      <th>area</th>\n",
       "      <th>cep</th>\n",
       "      <th>preco</th>\n",
       "    </tr>\n",
       "  </thead>\n",
       "  <tbody>\n",
       "    <tr>\n",
       "      <td>0</td>\n",
       "      <td>4</td>\n",
       "      <td>4</td>\n",
       "      <td>4053</td>\n",
       "      <td>85255</td>\n",
       "      <td>869500</td>\n",
       "    </tr>\n",
       "    <tr>\n",
       "      <td>1</td>\n",
       "      <td>4</td>\n",
       "      <td>3</td>\n",
       "      <td>3343</td>\n",
       "      <td>36372</td>\n",
       "      <td>865200</td>\n",
       "    </tr>\n",
       "    <tr>\n",
       "      <td>2</td>\n",
       "      <td>3</td>\n",
       "      <td>4</td>\n",
       "      <td>3923</td>\n",
       "      <td>85266</td>\n",
       "      <td>889000</td>\n",
       "    </tr>\n",
       "    <tr>\n",
       "      <td>3</td>\n",
       "      <td>5</td>\n",
       "      <td>5</td>\n",
       "      <td>4022</td>\n",
       "      <td>85262</td>\n",
       "      <td>910000</td>\n",
       "    </tr>\n",
       "    <tr>\n",
       "      <td>4</td>\n",
       "      <td>3</td>\n",
       "      <td>4</td>\n",
       "      <td>4116</td>\n",
       "      <td>85266</td>\n",
       "      <td>971226</td>\n",
       "    </tr>\n",
       "  </tbody>\n",
       "</table>\n",
       "</div>"
      ],
      "text/plain": [
       "   qde_banheiro qde_quartos  area    cep   preco\n",
       "0             4           4  4053  85255  869500\n",
       "1             4           3  3343  36372  865200\n",
       "2             3           4  3923  85266  889000\n",
       "3             5           5  4022  85262  910000\n",
       "4             3           4  4116  85266  971226"
      ]
     },
     "execution_count": 3,
     "metadata": {},
     "output_type": "execute_result"
    }
   ],
   "source": [
    "df = pd.read_excel('HousesInfo.xlsx')\n",
    "df.head()\n"
   ]
  },
  {
   "cell_type": "code",
   "execution_count": 4,
   "metadata": {},
   "outputs": [
    {
     "data": {
      "text/plain": [
       "qde_banheiro    535\n",
       "qde_quartos     535\n",
       "area            535\n",
       "cep             535\n",
       "preco           535\n",
       "dtype: int64"
      ]
     },
     "execution_count": 4,
     "metadata": {},
     "output_type": "execute_result"
    }
   ],
   "source": [
    "df.count()"
   ]
  },
  {
   "cell_type": "code",
   "execution_count": 5,
   "metadata": {},
   "outputs": [
    {
     "data": {
      "text/plain": [
       "qde_banheiro     int64\n",
       "qde_quartos     object\n",
       "area             int64\n",
       "cep              int64\n",
       "preco            int64\n",
       "dtype: object"
      ]
     },
     "execution_count": 5,
     "metadata": {},
     "output_type": "execute_result"
    }
   ],
   "source": [
    "df.dtypes"
   ]
  },
  {
   "cell_type": "code",
   "execution_count": null,
   "metadata": {},
   "outputs": [],
   "source": [
    "import re  # Tirando os caracteres especiais para subir no Banco de dados\n",
    "\n",
    "df['qde_quartos_d'] = df.qde_quartos.apply(lambda x: re.fullmatch( '.*-.*',  str(x) ) == None  )\n",
    "df2 = df.query('qde_quartos_d == True')\n",
    "df2.head(25)"
   ]
  },
  {
   "cell_type": "code",
   "execution_count": null,
   "metadata": {},
   "outputs": [],
   "source": [
    "df2.isnull().sum() "
   ]
  },
  {
   "cell_type": "code",
   "execution_count": null,
   "metadata": {},
   "outputs": [],
   "source": [
    "df2.dtypes"
   ]
  },
  {
   "cell_type": "code",
   "execution_count": null,
   "metadata": {},
   "outputs": [],
   "source": [
    "# con = psycopg2.connect(host='localhost', user='postgres', password='postgres') \n",
    "# con.set_isolation_level(ISOLATION_LEVEL_AUTOCOMMIT)\n",
    "# cursor = con.cursor() \n",
    "# name_database = \"imobiliaria\" \n",
    "# sql_create_database = \"CREATE DATABASE {}\".format(name_database) \n",
    "# try:    \n",
    "#     cursor.execute(sql_create_database) \n",
    "# except:    \n",
    "#     print(\"database 'imobiliaria' already exists\")"
   ]
  },
  {
   "cell_type": "code",
   "execution_count": null,
   "metadata": {},
   "outputs": [],
   "source": [
    "\n",
    "# con = psycopg2.connect(host='localhost', database = 'imobiliaria', user='postgres', password='postgres') \n",
    "# con.set_isolation_level(ISOLATION_LEVEL_AUTOCOMMIT)\n",
    "# cursor = con.cursor() \n",
    "\n",
    "# sql = 'CREATE TABLE info_casas (id BIGSERIAL PRIMARY KEY, qde_banheiro INT, qde_quartos VARCHAR, area INT, cep INT, preco INT)'\n",
    "\n",
    "# try:    \n",
    "#     cursor.execute(sql) \n",
    "# except:    \n",
    "#     print(\"table 'info_casas' already exists\")\n"
   ]
  },
  {
   "cell_type": "code",
   "execution_count": null,
   "metadata": {},
   "outputs": [],
   "source": [
    "# for x in df1.values:\n",
    "#     sql = \"INSERT INTO info_casas (qde_banheiro,qde_quartos,area,cep,preco) VALUES ({},{},{},{},{})\".format(x[0], x[1], x[2], x[3],x[4])\n",
    "#     print(sql)\n",
    "#     cursor.execute(sql) "
   ]
  },
  {
   "cell_type": "code",
   "execution_count": 1,
   "metadata": {},
   "outputs": [],
   "source": []
  },
  {
   "cell_type": "code",
   "execution_count": null,
   "metadata": {},
   "outputs": [],
   "source": []
  },
  {
   "cell_type": "code",
   "execution_count": null,
   "metadata": {},
   "outputs": [],
   "source": []
  },
  {
   "cell_type": "code",
   "execution_count": null,
   "metadata": {},
   "outputs": [],
   "source": []
  }
 ],
 "metadata": {
  "kernelspec": {
   "display_name": "Python 3",
   "language": "python",
   "name": "python3"
  },
  "language_info": {
   "codemirror_mode": {
    "name": "ipython",
    "version": 3
   },
   "file_extension": ".py",
   "mimetype": "text/x-python",
   "name": "python",
   "nbconvert_exporter": "python",
   "pygments_lexer": "ipython3",
   "version": "3.7.4"
  }
 },
 "nbformat": 4,
 "nbformat_minor": 2
}
